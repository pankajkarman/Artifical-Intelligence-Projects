{
 "cells": [
  {
   "cell_type": "code",
   "execution_count": 1,
   "metadata": {},
   "outputs": [],
   "source": [
    "import pandas as pd, numpy as np, matplotlib.pyplot as plt\n",
    "from decision_tree import DecisionTreeClassifier as mytree\n",
    "from sklearn.model_selection import train_test_split\n",
    "from sklearn.metrics import accuracy_score\n",
    "from sklearn.tree import DecisionTreeClassifier as sktree"
   ]
  },
  {
   "cell_type": "code",
   "execution_count": 2,
   "metadata": {},
   "outputs": [
    {
     "name": "stdout",
     "output_type": "stream",
     "text": [
      "  price    maintenance  capacity airbag  profitable\n",
      "0      low         low         2      no        yes\n",
      "1      low         med         4     yes         no\n",
      "2      low        high         4      no         no\n",
      "3      med         med         4      no         no\n",
      "4      med         med         4     yes        yes\n",
      "5      med        high         2     yes         no\n",
      "6     high         med         4     yes        yes\n",
      "7     high        high         2     yes         no\n",
      "8     high        high         5     yes        yes\n"
     ]
    }
   ],
   "source": [
    "data = pd.read_excel('./part1.xlsx')\n",
    "ds = pd.DataFrame(columns=data.columns)\n",
    "for col in ds.columns:\n",
    "    ds[col], unique = pd.factorize(data[col])\n",
    "X = ds.drop(['profitable'], axis=1).values \n",
    "y = ds['profitable'].values\n",
    "print data"
   ]
  },
  {
   "cell_type": "code",
   "execution_count": 3,
   "metadata": {},
   "outputs": [
    {
     "name": "stdout",
     "output_type": "stream",
     "text": [
      "Using Gini: my model\n",
      "   predicted  true\n",
      "0        0.0   0.0\n",
      "1        0.0   1.0\n",
      "2        1.0   1.0\n",
      "3        0.0   1.0\n",
      "4        0.0   0.0\n",
      "5        1.0   1.0\n",
      "6        0.0   0.0\n",
      "7        1.0   1.0\n",
      "8        0.0   0.0\n",
      "\n",
      "\n",
      "  Accuracy = 0.778\n",
      "\n",
      "\n",
      "  Generated Tree:  \n",
      "[feature2 < 1.000]\n",
      "\t[0]\n",
      "\t[feature3 < 2.000]\n",
      "\t\t[feature2 < 2.000]\n",
      "\t\t\t[0]\n",
      "\t\t\t[1]\n",
      "\t\t[0]\n"
     ]
    }
   ],
   "source": [
    "# using gini \n",
    "tree = mytree(max_depth=3, min_size=2, \\\n",
    "              criteria='gini').fit(X, y)\n",
    "predict = tree.predict(X)\n",
    "result = pd.DataFrame([])\n",
    "result['predicted'] = predict\n",
    "result['true'] = y.astype('float')\n",
    "print 'Using Gini: my model'\n",
    "print pd.DataFrame(result)\n",
    "print('\\n')\n",
    "accuracy = accuracy_score(y, predict)\n",
    "print '  Accuracy = %0.3f' %(accuracy)\n",
    "print('\\n')\n",
    "print('  Generated Tree:  ')\n",
    "tree.print_tree()"
   ]
  },
  {
   "cell_type": "code",
   "execution_count": 4,
   "metadata": {},
   "outputs": [
    {
     "name": "stdout",
     "output_type": "stream",
     "text": [
      "Using Information Gain: my model\n",
      "   predicted  true\n",
      "0        0.0   0.0\n",
      "1        1.0   1.0\n",
      "2        1.0   1.0\n",
      "3        0.0   1.0\n",
      "4        0.0   0.0\n",
      "5        1.0   1.0\n",
      "6        0.0   0.0\n",
      "7        1.0   1.0\n",
      "8        0.0   0.0\n",
      "\n",
      "\n",
      "  Accuracy = 0.889\n",
      "\n",
      "\n",
      "  Generated Tree:  \n",
      "[feature2 < 1.000]\n",
      "\t[0]\n",
      "\t[feature1 < 1.000]\n",
      "\t\t[1]\n",
      "\t\t[feature3 < 1.000]\n",
      "\t\t\t[1]\n",
      "\t\t\t[0]\n"
     ]
    }
   ],
   "source": [
    "# using information gain \n",
    "tree = mytree(max_depth=3, min_size=2, \\\n",
    "              criteria='information gain').fit(X, y)\n",
    "predict = tree.predict(X)\n",
    "result = pd.DataFrame([])\n",
    "result['predicted'] = predict\n",
    "result['true'] = y.astype('float')\n",
    "print 'Using Information Gain: my model'\n",
    "print pd.DataFrame(result)\n",
    "print('\\n')\n",
    "accuracy = accuracy_score(y, predict)\n",
    "print '  Accuracy = %0.3f' %(accuracy)\n",
    "print('\\n')\n",
    "print('  Generated Tree:  ')\n",
    "tree.print_tree()"
   ]
  },
  {
   "cell_type": "code",
   "execution_count": 5,
   "metadata": {},
   "outputs": [
    {
     "name": "stdout",
     "output_type": "stream",
     "text": [
      "Using Gini: scikit-learn classifier\n",
      "   predicted  true\n",
      "0          0   0.0\n",
      "1          0   1.0\n",
      "2          1   1.0\n",
      "3          0   1.0\n",
      "4          0   0.0\n",
      "5          1   1.0\n",
      "6          0   0.0\n",
      "7          1   1.0\n",
      "8          0   0.0\n",
      "\n",
      "\n",
      "  Accuracy = 0.778\n"
     ]
    }
   ],
   "source": [
    "# using gini\n",
    "tree = sktree(max_depth=3, min_samples_split=2, \\\n",
    "              criterion = 'gini').fit(X, y)\n",
    "predict = tree.predict(X)\n",
    "result = pd.DataFrame([])\n",
    "result['predicted'] = predict\n",
    "result['true'] = y.astype('float')\n",
    "print 'Using Gini: scikit-learn classifier'\n",
    "print pd.DataFrame(result)\n",
    "print('\\n')\n",
    "accuracy = accuracy_score(y, predict)\n",
    "print '  Accuracy = %0.3f' %(accuracy)"
   ]
  },
  {
   "cell_type": "code",
   "execution_count": 6,
   "metadata": {},
   "outputs": [
    {
     "name": "stdout",
     "output_type": "stream",
     "text": [
      "Using Gini: scikit-learn classifier\n",
      "   predicted  true\n",
      "0          0   0.0\n",
      "1          0   1.0\n",
      "2          1   1.0\n",
      "3          0   1.0\n",
      "4          0   0.0\n",
      "5          1   1.0\n",
      "6          0   0.0\n",
      "7          1   1.0\n",
      "8          0   0.0\n",
      "\n",
      "\n",
      "  Accuracy = 0.778\n"
     ]
    }
   ],
   "source": [
    "# using information gain \n",
    "tree = sktree(max_depth=3, min_samples_split=2, \\\n",
    "              criterion = 'entropy').fit(X, y)\n",
    "predict = tree.predict(X)\n",
    "result = pd.DataFrame([])\n",
    "result['predicted'] = predict\n",
    "result['true'] = y.astype('float')\n",
    "print 'Using Gini: scikit-learn classifier'\n",
    "print pd.DataFrame(result)\n",
    "print('\\n')\n",
    "accuracy = accuracy_score(y, predict)\n",
    "print '  Accuracy = %0.3f' %(accuracy)"
   ]
  }
 ],
 "metadata": {
  "kernelspec": {
   "display_name": "Python 2",
   "language": "python",
   "name": "python2"
  },
  "language_info": {
   "codemirror_mode": {
    "name": "ipython",
    "version": 2
   },
   "file_extension": ".py",
   "mimetype": "text/x-python",
   "name": "python",
   "nbconvert_exporter": "python",
   "pygments_lexer": "ipython2",
   "version": "2.7.15"
  }
 },
 "nbformat": 4,
 "nbformat_minor": 2
}
