{
 "cells": [
  {
   "cell_type": "markdown",
   "metadata": {},
   "source": [
    "# Building the Question Answering System"
   ]
  },
  {
   "cell_type": "code",
   "execution_count": 1,
   "metadata": {
    "collapsed": true
   },
   "outputs": [],
   "source": [
    "%load_ext autotime\n",
    "import warnings; warnings.filterwarnings('ignore')"
   ]
  },
  {
   "cell_type": "code",
   "execution_count": 2,
   "metadata": {},
   "outputs": [
    {
     "name": "stdout",
     "output_type": "stream",
     "text": [
      "time: 596 ms\n"
     ]
    }
   ],
   "source": [
    "# %%capture\n",
    "# from tqdm import tqdm_notebook as tqdm\n",
    "# tqdm().pandas()"
   ]
  },
  {
   "cell_type": "code",
   "execution_count": 3,
   "metadata": {},
   "outputs": [
    {
     "name": "stderr",
     "output_type": "stream",
     "text": [
      "Using TensorFlow backend.\n"
     ]
    },
    {
     "name": "stdout",
     "output_type": "stream",
     "text": [
      "time: 2.61 s\n"
     ]
    }
   ],
   "source": [
    "import numpy as np\n",
    "from tqdm import tqdm\n",
    "from collections import Counter\n",
    "from preprocessing import *\n",
    "from dmn import *\n",
    "from keras.preprocessing.sequence import pad_sequences"
   ]
  },
  {
   "cell_type": "code",
   "execution_count": 4,
   "metadata": {},
   "outputs": [
    {
     "name": "stdout",
     "output_type": "stream",
     "text": [
      "time: 3.51 ms\n"
     ]
    }
   ],
   "source": [
    "def get_max_length(tokenized_contexts):\n",
    "    max_context_len = np.max([len(context) for context in tokenized_contexts])\n",
    "    return max_context_len    "
   ]
  },
  {
   "cell_type": "code",
   "execution_count": 5,
   "metadata": {},
   "outputs": [
    {
     "name": "stdout",
     "output_type": "stream",
     "text": [
      "time: 5.27 s\n"
     ]
    }
   ],
   "source": [
    "prep = PreProcess(trainfile = \"./Data/training_data.json\", \\\n",
    "                  testfile  = \"./Data/validation_data.json\", \\\n",
    "                  glovefile = \"./Data/glove.6B.50d.txt\")\n",
    "\n",
    "contexts, questions, answers, answer_start, answer_end = prep.get_data(train=True)"
   ]
  },
  {
   "cell_type": "code",
   "execution_count": 6,
   "metadata": {},
   "outputs": [
    {
     "name": "stdout",
     "output_type": "stream",
     "text": [
      "time: 4min 5s\n"
     ]
    }
   ],
   "source": [
    "tokenized_contexts, tokenized_questions, tokenized_answers, \\\n",
    "    sent_end_indices = prep.process(contexts, questions, answers) "
   ]
  },
  {
   "cell_type": "code",
   "execution_count": null,
   "metadata": {},
   "outputs": [
    {
     "name": "stdout",
     "output_type": "stream",
     "text": [
      "time: 184 ms\n"
     ]
    }
   ],
   "source": [
    "# define maodel and parameters\n",
    "num_of_epochs = 25\n",
    "batch_size = 50\n",
    "num_of_samples = len(contexts)\n",
    "num_of_batches = int(num_of_samples/batch_size)\n",
    "max_context_len = get_max_length(tokenized_contexts)\n",
    "max_question_len = get_max_length(tokenized_questions)\n",
    "max_answer_len = get_max_length(tokenized_answers)\n",
    "max_sent_num = get_max_length(sent_end_indices)\n",
    "output_dim = get_max_length(contexts)\n",
    "\n",
    "DMN_model = DynamicNetworkMemory(max_context_len, max_question_len, \\\n",
    "                                 max_sent_num, output_dim, summary=True)"
   ]
  },
  {
   "cell_type": "code",
   "execution_count": null,
   "metadata": {
    "scrolled": true
   },
   "outputs": [
    {
     "name": "stderr",
     "output_type": "stream",
     "text": [
      "\r",
      "  0%|          | 0/17 [00:00<?, ?it/s]"
     ]
    },
    {
     "name": "stdout",
     "output_type": "stream",
     "text": [
      "\n",
      " Epoch 1/25   Batch 1/17\n"
     ]
    }
   ],
   "source": [
    "history_objects = []\n",
    "batch_iteration = 0\n",
    "for epoch in range(num_of_epochs): #change to num of epochs after\n",
    "    for batch_idx in tqdm(range(num_of_batches)):\n",
    "        print(\"\\n Epoch %d/%d   Batch %d/%d\" % (epoch+1, num_of_epochs, batch_iteration+1, num_of_batches))\n",
    "        start, end = (batch_idx*batch_size, (batch_idx+1)*batch_size)    \n",
    "        y_answer_start, y_answer_end = DMN_model.get_answer_span(answer_start[start:end], \\\n",
    "                                                                 answer_end[start:end])\n",
    "        padded_contexts = prep.get_padded_inputs(tokenized_contexts[start:end], string_type=\"context\")\n",
    "        padded_questions = prep.get_padded_inputs(tokenized_questions[start:end], string_type=\"question\")\n",
    "        padded_sent_end_indices = pad_sequences(sent_end_indices[start:end], max_sent_num,\n",
    "                                                                    padding=\"post\", dtype=\"int32\")\n",
    "        \n",
    "        history = DMN_model.fit(x = [padded_contexts, padded_sent_end_indices, padded_questions],\n",
    "                                y = [y_answer_start, y_answer_end], verbose=0,\n",
    "                                batch_size=batch_size, validation_split=0.1)\n",
    "        \n",
    "        batch_iteration += 1\n",
    "    \n",
    "    history_objects.append(history)\n",
    "    batch_iteration = 0 # Reset batch iteration counter for each new epoch"
   ]
  }
 ],
 "metadata": {
  "kernelspec": {
   "display_name": "Python 3",
   "language": "python",
   "name": "python3"
  },
  "language_info": {
   "codemirror_mode": {
    "name": "ipython",
    "version": 3
   },
   "file_extension": ".py",
   "mimetype": "text/x-python",
   "name": "python",
   "nbconvert_exporter": "python",
   "pygments_lexer": "ipython3",
   "version": "3.6.3"
  }
 },
 "nbformat": 4,
 "nbformat_minor": 2
}
