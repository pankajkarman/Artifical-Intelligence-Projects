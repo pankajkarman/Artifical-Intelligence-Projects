{
 "cells": [
  {
   "cell_type": "code",
   "execution_count": 1,
   "metadata": {},
   "outputs": [],
   "source": [
    "%load_ext autotime\n",
    "import warnings; warnings.filterwarnings('ignore')"
   ]
  },
  {
   "cell_type": "code",
   "execution_count": 2,
   "metadata": {},
   "outputs": [
    {
     "name": "stdout",
     "output_type": "stream",
     "text": [
      "time: 359 ms\n"
     ]
    }
   ],
   "source": [
    "import pandas as pd, numpy as np, matplotlib.pyplot as plt\n",
    "from scipy.cluster.hierarchy import dendrogram, fcluster\n",
    "from utils import HeirarchicalClustering as HAC"
   ]
  },
  {
   "cell_type": "code",
   "execution_count": 3,
   "metadata": {},
   "outputs": [
    {
     "name": "stdout",
     "output_type": "stream",
     "text": [
      "time: 7.48 ms\n"
     ]
    }
   ],
   "source": [
    "data = pd.read_csv('./AAAI.csv')\n",
    "data['Topics'] = data['Topics'].apply(lambda x: x.split('\\n'))"
   ]
  },
  {
   "cell_type": "code",
   "execution_count": 4,
   "metadata": {},
   "outputs": [
    {
     "data": {
      "image/png": "[encoded data removed]",
      "text/plain": [
       "<Figure size 936x360 with 1 Axes>"
      ]
     },
     "metadata": {},
     "output_type": "display_data"
    },
    {
     "name": "stdout",
     "output_type": "stream",
     "text": [
      "time: 5.62 s\n"
     ]
    }
   ],
   "source": [
    "cluster = HAC(data['Topics'], method = 'complete').get_linkage()\n",
    "fig, ax = plt.subplots(1, 1, figsize=(13, 5))\n",
    "cluster.plot_dendrogram(ax=ax, p=20, D=0.4)\n",
    "plt.savefig('heirarchical_clustering_complete.png', dpi=900)\n",
    "plt.show()"
   ]
  },
  {
   "cell_type": "code",
   "execution_count": 5,
   "metadata": {},
   "outputs": [
    {
     "name": "stdout",
     "output_type": "stream",
     "text": [
      "cluster labels:\n",
      "[ 19  42  48  51  65  66  67  70  79  84  87  89 108 109 111 115 118 123\n",
      " 125 126 129 135 137 139 140 145 148]\n",
      "[ 76  94  96 114 142 147]\n",
      "[  8  21  23  27  29  30  35  37  46  56  64  72  81  82  83 101 116 117\n",
      " 124 134 144]\n",
      "[ 18  26  32  40  49  59  60  71  73  80  90  93  95 105 112 121 132 149]\n",
      "[  2   4   9  13  15  22  31  33  36  39  41  53  58  61  74  78  85  97\n",
      "  98 103 106 107]\n",
      "[ 52  55  63  86  88  99 102 110 119 122 128 138 141 146]\n",
      "[ 20  43  54  62  68  75  91 104 120 127 131 133]\n",
      "[  0   1   3   5   6   7  10  11  12  14  16  17  24  25  28  34  38  44\n",
      "  45  47  50  57  69  77  92 100 113 130 136 143]\n",
      "time: 3.68 ms\n"
     ]
    }
   ],
   "source": [
    "print 'cluster labels:'\n",
    "labels = fcluster(cluster.linkage, 9, criterion = \"maxclust\")\n",
    "for label in np.unique(labels):\n",
    "    #print 'cluster ' + str(label)\n",
    "    print data.index.values[labels==label]"
   ]
  }
 ],
 "metadata": {
  "kernelspec": {
   "display_name": "Python 2",
   "language": "python",
   "name": "python2"
  },
  "language_info": {
   "codemirror_mode": {
    "name": "ipython",
    "version": 2
   },
   "file_extension": ".py",
   "mimetype": "text/x-python",
   "name": "python",
   "nbconvert_exporter": "python",
   "pygments_lexer": "ipython2",
   "version": "2.7.15"
  }
 },
 "nbformat": 4,
 "nbformat_minor": 2
}
