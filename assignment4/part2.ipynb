{
 "cells": [
  {
   "cell_type": "code",
   "execution_count": 1,
   "metadata": {},
   "outputs": [],
   "source": [
    "%load_ext autotime\n",
    "import warnings\n",
    "warnings.filterwarnings('ignore')"
   ]
  },
  {
   "cell_type": "code",
   "execution_count": 2,
   "metadata": {},
   "outputs": [
    {
     "name": "stdout",
     "output_type": "stream",
     "text": [
      "time: 927 ms\n"
     ]
    }
   ],
   "source": [
    "import numpy as np\n",
    "import matplotlib.pyplot as plt\n",
    "from activation import Activation\n",
    "from preprocessing import PreProcess\n",
    "from neural_net import NeuralNetwork\n",
    "from layers import Dense\n",
    "from other import accuracy_score, CrossEntropy, StochasticGradientDescent as SGD"
   ]
  },
  {
   "cell_type": "code",
   "execution_count": 3,
   "metadata": {},
   "outputs": [
    {
     "name": "stdout",
     "output_type": "stream",
     "text": [
      "time: 3.89 ms\n"
     ]
    }
   ],
   "source": [
    "def custom_neural_network(num_hidden_layer=1, num_neurons=100, learning_rate=0.1, \\\n",
    "                          activation='sigmoid', print_summary=True):   \n",
    "    network = NeuralNetwork(optimizer= SGD(learning_rate=learning_rate), loss=CrossEntropy)\n",
    "    network.add(Dense(num_neurons, input_shape=(8404,))).add(Activation(activation))\n",
    "    for i in range(1, num_hidden_layer):\n",
    "        network.add(Dense(num_neurons))\n",
    "        network.add(Activation(activation))\n",
    "    network.add(Dense(2)).add(Activation('softmax'))\n",
    "    if print_summary:\n",
    "        network.summary()\n",
    "    return network"
   ]
  },
  {
   "cell_type": "code",
   "execution_count": 4,
   "metadata": {},
   "outputs": [
    {
     "name": "stdout",
     "output_type": "stream",
     "text": [
      "((4457, 8404), (1115, 8404), (4457, 1), (1115, 1))\n",
      "time: 5.3 s\n"
     ]
    }
   ],
   "source": [
    "pre = PreProcess(\"Assignment_4_data.txt\")\n",
    "X_train, X_test, y_train, y_test = pre.process(test_size=0.2) \n",
    "n_features = X_train.shape[1]\n",
    "print(X_train.shape, X_test.shape, y_train.shape, y_test.shape)"
   ]
  },
  {
   "cell_type": "code",
   "execution_count": 5,
   "metadata": {},
   "outputs": [
    {
     "name": "stdout",
     "output_type": "stream",
     "text": [
      "+---------------+\n",
      "| Model Summary |\n",
      "+---------------+\n",
      "Input Shape: (8404,)\n",
      "+----------------------+------------+--------------+\n",
      "| Layer Type           | Parameters | Output Shape |\n",
      "+----------------------+------------+--------------+\n",
      "| Dense                | 840500     | (100,)       |\n",
      "| Activation (Sigmoid) | 0          | (100,)       |\n",
      "| Dense                | 10100      | (100,)       |\n",
      "| Activation (Sigmoid) | 0          | (100,)       |\n",
      "| Dense                | 202        | (2,)         |\n",
      "| Activation (Softmax) | 0          | (2,)         |\n",
      "+----------------------+------------+--------------+\n",
      "Total Parameters: 850802\n",
      "\n",
      "time: 11.1 ms\n"
     ]
    }
   ],
   "source": [
    "network = custom_neural_network(num_hidden_layer=2, num_neurons=100, \\\n",
    "                                learning_rate=0.1, print_summary=True)"
   ]
  },
  {
   "cell_type": "code",
   "execution_count": 6,
   "metadata": {},
   "outputs": [
    {
     "name": "stdout",
     "output_type": "stream",
     "text": [
      "('Accuracy:', 0)\n",
      "time: 22.7 s\n"
     ]
    }
   ],
   "source": [
    "train_err, _ = network.fit(X_train, y_train, n_epochs=50, batch_size=100)\n",
    "_, accuracy = network.test_on_batch(X_test, y_test)\n",
    "print(\"Accuracy:\", accuracy)"
   ]
  },
  {
   "cell_type": "code",
   "execution_count": 7,
   "metadata": {},
   "outputs": [
    {
     "data": {
      "image/png": "[encoded data removed]",
      "text/plain": [
       "<Figure size 432x288 with 1 Axes>"
      ]
     },
     "metadata": {},
     "output_type": "display_data"
    },
    {
     "name": "stdout",
     "output_type": "stream",
     "text": [
      "time: 105 ms\n"
     ]
    }
   ],
   "source": [
    "epoch = range(len(train_err))\n",
    "plt.plot(epoch, train_err, label=\"Training Error\")\n",
    "plt.ylabel('Error')\n",
    "plt.xlabel('Epochs')\n",
    "plt.legend()\n",
    "plt.show()"
   ]
  }
 ],
 "metadata": {
  "kernelspec": {
   "display_name": "Python 2",
   "language": "python",
   "name": "python2"
  },
  "language_info": {
   "codemirror_mode": {
    "name": "ipython",
    "version": 2
   },
   "file_extension": ".py",
   "mimetype": "text/x-python",
   "name": "python",
   "nbconvert_exporter": "python",
   "pygments_lexer": "ipython2",
   "version": "2.7.15"
  }
 },
 "nbformat": 4,
 "nbformat_minor": 2
}
