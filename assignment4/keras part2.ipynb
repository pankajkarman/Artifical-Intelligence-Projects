{
 "cells": [
  {
   "cell_type": "code",
   "execution_count": 1,
   "metadata": {},
   "outputs": [],
   "source": [
    "%load_ext autotime\n",
    "import warnings\n",
    "warnings.filterwarnings('ignore')"
   ]
  },
  {
   "cell_type": "code",
   "execution_count": 2,
   "metadata": {},
   "outputs": [
    {
     "name": "stderr",
     "output_type": "stream",
     "text": [
      "Using TensorFlow backend.\n"
     ]
    },
    {
     "name": "stdout",
     "output_type": "stream",
     "text": [
      "time: 1.38 s\n"
     ]
    }
   ],
   "source": [
    "import keras\n",
    "import numpy as np\n",
    "import matplotlib.pyplot as plt\n",
    "from keras.models import Sequential\n",
    "from keras.layers import Dense\n",
    "from preprocessing import PreProcess, binary_label"
   ]
  },
  {
   "cell_type": "code",
   "execution_count": 3,
   "metadata": {},
   "outputs": [
    {
     "data": {
      "text/plain": [
       "8404"
      ]
     },
     "execution_count": 3,
     "metadata": {},
     "output_type": "execute_result"
    },
    {
     "name": "stdout",
     "output_type": "stream",
     "text": [
      "time: 5.26 s\n"
     ]
    }
   ],
   "source": [
    "pre = PreProcess(\"Assignment_4_data.txt\")\n",
    "X_train, X_test, y_train, y_test = pre.process(test_size=0.2) \n",
    "y_train = binary_label(y_train)\n",
    "y_test = binary_label(y_test)\n",
    "\n",
    "n_features = X_train.shape[1]\n",
    "n_features"
   ]
  },
  {
   "cell_type": "code",
   "execution_count": null,
   "metadata": {
    "scrolled": false
   },
   "outputs": [],
   "source": [
    "activation = 'sigmoid'\n",
    "model = Sequential()\n",
    "model.add(Dense(100, activation=activation, input_dim=n_features))\n",
    "model.add(Dense(100, activation=activation)) \n",
    "model.add(Dense(2, activation='softmax'))\n",
    "model.compile(optimizer=keras.optimizers.SGD(lr=0.1, momentum=0.0),\\\n",
    "              loss=keras.losses.binary_crossentropy, metrics=['accuracy'])\n",
    "\n",
    "history = model.fit(X_train, y_train, epochs=50, batch_size=200,\\\n",
    "                    validation_data=(X_test, y_test), verbose=0)"
   ]
  },
  {
   "cell_type": "code",
   "execution_count": null,
   "metadata": {},
   "outputs": [],
   "source": [
    "train_err = history.history['loss']\n",
    "train_acc = history.history['acc']\n",
    "test_err = history.history['val_loss']\n",
    "test_acc = history.history['val_acc']"
   ]
  },
  {
   "cell_type": "code",
   "execution_count": null,
   "metadata": {},
   "outputs": [],
   "source": [
    "fig, ax = plt.subplots(1, 1, figsize=(13, 6))\n",
    "ax.plot(train_err, label='train_error')\n",
    "ax.plot(test_err, label='test_error')\n",
    "ax.set_xlabel('Epochs')\n",
    "ax.set_ylabel('Error')\n",
    "ax.minorticks_on()\n",
    "ax.legend()\n",
    "plt.savefig('part2.error.' + activation + '.png')\n",
    "plt.show()"
   ]
  },
  {
   "cell_type": "code",
   "execution_count": null,
   "metadata": {},
   "outputs": [],
   "source": [
    "accuracy = model.evaluate(X_test, y_test, batch_size=200, verbose=0)[1]\n",
    "print(\"Final Test Accuracy:\", accuracy)"
   ]
  },
  {
   "cell_type": "code",
   "execution_count": null,
   "metadata": {},
   "outputs": [],
   "source": [
    "fig, ax = plt.subplots(1, 1, figsize=(14, 6))\n",
    "y_pred = np.argmax(model.predict(X_test), axis=1)\n",
    "y_true = np.argmax(y_test, axis=1)\n",
    "ax.plot(y_true, '--', label='True Label')\n",
    "ax.plot(y_pred, label='Predicted Label')\n",
    "plt.legend()\n",
    "plt.savefig('part2.prediction.' + activation + '.png')\n",
    "plt.show()"
   ]
  }
 ],
 "metadata": {
  "kernelspec": {
   "display_name": "Python 2",
   "language": "python",
   "name": "python2"
  },
  "language_info": {
   "codemirror_mode": {
    "name": "ipython",
    "version": 2
   },
   "file_extension": ".py",
   "mimetype": "text/x-python",
   "name": "python",
   "nbconvert_exporter": "python",
   "pygments_lexer": "ipython2",
   "version": "2.7.15"
  }
 },
 "nbformat": 4,
 "nbformat_minor": 2
}
